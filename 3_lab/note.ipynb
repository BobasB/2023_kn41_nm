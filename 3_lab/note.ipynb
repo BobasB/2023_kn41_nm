{
 "cells": [
  {
   "cell_type": "code",
   "execution_count": null,
   "metadata": {},
   "outputs": [],
   "source": [
    "# встановти бібліотеку можна також всередині Ноутбука використавши Notebook Magic, \n",
    "# це набір команд які можна викликати починаючи з симлова %\n",
    "%pip install numpy"
   ]
  },
  {
   "cell_type": "code",
   "execution_count": 22,
   "metadata": {},
   "outputs": [],
   "source": [
    "import numpy as np"
   ]
  },
  {
   "cell_type": "markdown",
   "metadata": {},
   "source": [
    "- чому нам потрібна дана бібліотека при роботі з числовим Python?"
   ]
  },
  {
   "cell_type": "code",
   "execution_count": null,
   "metadata": {},
   "outputs": [],
   "source": [
    "ll = list([-1, 2, 8, 9, 12, 0])\n",
    "ll * 3 # Для роботи з числами це є некоректний результат, бо ми очікували просто множеня на кожен з елементів списку"
   ]
  },
  {
   "cell_type": "code",
   "execution_count": null,
   "metadata": {},
   "outputs": [],
   "source": [
    "# тут, коли ми хочемо зробити додавання до кожного з елементів взагалі буде помилка\n",
    "#ll + 2\n",
    "# також помилка коли ми хочемо поділити список з чисел на якесь число\n",
    "#ll / 2"
   ]
  },
  {
   "cell_type": "code",
   "execution_count": null,
   "metadata": {},
   "outputs": [],
   "source": [
    "# Для роботи поелементно на потрібно використовувати цикли\n",
    "lf = [i * 3 for i in ll]\n",
    "lf"
   ]
  },
  {
   "cell_type": "code",
   "execution_count": null,
   "metadata": {},
   "outputs": [],
   "source": [
    "# Можна робоити і складніші математичні операції, одак тільки поелементно\n",
    "lf = [i / 2 + 4 for i in ll]\n",
    "lf"
   ]
  },
  {
   "cell_type": "code",
   "execution_count": null,
   "metadata": {},
   "outputs": [],
   "source": [
    "from random import randint\n",
    "\n",
    "# Наступні 2 комірки будуть тормозити компютер тому що генерація 100 мільйонів чисел це досить багато даних\n",
    "#ll = list([randint(-5, 5) for _ in range(100000000)])\n",
    "# це генерувалось 51 секунду"
   ]
  },
  {
   "cell_type": "code",
   "execution_count": null,
   "metadata": {},
   "outputs": [],
   "source": [
    "# цей масив буде ще більшим томущо ділення нам переведе цілочисельний тип int в з плаваючою крапкою float\n",
    "#lf = [i / 2 + 4 for i in ll]\n",
    "#lf[0:10]\n",
    "# Це операція виконувалась аж 10 секунд!"
   ]
  },
  {
   "cell_type": "markdown",
   "metadata": {},
   "source": [
    "- для роботи з дуже великим набором даних, використовувати базові методи Python стає неоптимально (довгий час виконання та займає бугуто оперативної памяті)"
   ]
  },
  {
   "cell_type": "code",
   "execution_count": 24,
   "metadata": {},
   "outputs": [
    {
     "data": {
      "text/plain": [
       "array([0.7044187 , 0.73524246, 0.64005925, 0.96311836, 0.34485025,\n",
       "       0.32097115, 0.72065517, 0.73635332, 0.44293328, 0.19052522])"
      ]
     },
     "execution_count": 24,
     "metadata": {},
     "output_type": "execute_result"
    }
   ],
   "source": [
    "nl = np.random.random(100000000)\n",
    "nl[0:10]\n",
    "# тут такий жеж великий обсяг даних ми гненерували менше ніж за секунду!"
   ]
  },
  {
   "cell_type": "code",
   "execution_count": 25,
   "metadata": {},
   "outputs": [
    {
     "data": {
      "text/plain": [
       "array([4.35220935, 4.36762123, 4.32002962, 4.48155918, 4.17242513,\n",
       "       4.16048558, 4.36032758, 4.36817666, 4.22146664, 4.09526261])"
      ]
     },
     "execution_count": 25,
     "metadata": {},
     "output_type": "execute_result"
    }
   ],
   "source": [
    "# використовуючи бібліотеку numpy ми можемо працювати з числами швидко та у зрозумілому для нас форматі\n",
    "# і щоб операції були виконані над всіма елементами масиву нам не потрібні цикли!\n",
    "nf = nl / 2 + 4\n",
    "nf[0:10]"
   ]
  }
 ],
 "metadata": {
  "kernelspec": {
   "display_name": "Python 3",
   "language": "python",
   "name": "python3"
  },
  "language_info": {
   "codemirror_mode": {
    "name": "ipython",
    "version": 3
   },
   "file_extension": ".py",
   "mimetype": "text/x-python",
   "name": "python",
   "nbconvert_exporter": "python",
   "pygments_lexer": "ipython3",
   "version": "3.11.5"
  }
 },
 "nbformat": 4,
 "nbformat_minor": 2
}
