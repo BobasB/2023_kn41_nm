{
 "cells": [
  {
   "cell_type": "code",
   "execution_count": 1,
   "metadata": {},
   "outputs": [
    {
     "name": "stdout",
     "output_type": "stream",
     "text": [
      "Requirement already satisfied: numpy in c:\\users\\admin\\appdata\\local\\programs\\python\\python311\\lib\\site-packages (1.26.1)\n",
      "Note: you may need to restart the kernel to use updated packages.\n"
     ]
    },
    {
     "name": "stderr",
     "output_type": "stream",
     "text": [
      "\n",
      "[notice] A new release of pip is available: 23.2.1 -> 23.3.1\n",
      "[notice] To update, run: python.exe -m pip install --upgrade pip\n"
     ]
    }
   ],
   "source": [
    "# встановти бібліотеку можна також всередині Ноутбука використавши Notebook Magic, \n",
    "# це набір команд які можна викликати починаючи з симлова %\n",
    "%pip install numpy"
   ]
  },
  {
   "cell_type": "code",
   "execution_count": 2,
   "metadata": {},
   "outputs": [],
   "source": [
    "import numpy as np"
   ]
  },
  {
   "cell_type": "markdown",
   "metadata": {},
   "source": [
    "- чому нам потрібна дана бібліотека при роботі з числовим Python?"
   ]
  },
  {
   "cell_type": "code",
   "execution_count": 3,
   "metadata": {},
   "outputs": [
    {
     "data": {
      "text/plain": [
       "[-1, 2, 8, 9, 12, 0, -1, 2, 8, 9, 12, 0, -1, 2, 8, 9, 12, 0]"
      ]
     },
     "execution_count": 3,
     "metadata": {},
     "output_type": "execute_result"
    }
   ],
   "source": [
    "ll = list([-1, 2, 8, 9, 12, 0])\n",
    "ll * 3 # Для роботи з числами це є некоректний результат, бо ми очікували просто множеня на кожен з елементів списку"
   ]
  },
  {
   "cell_type": "code",
   "execution_count": 4,
   "metadata": {},
   "outputs": [],
   "source": [
    "# тут, коли ми хочемо зробити додавання до кожного з елементів взагалі буде помилка\n",
    "#ll + 2\n",
    "# також помилка коли ми хочемо поділити список з чисел на якесь число\n",
    "#ll / 2"
   ]
  },
  {
   "cell_type": "code",
   "execution_count": 5,
   "metadata": {},
   "outputs": [
    {
     "data": {
      "text/plain": [
       "[-3, 6, 24, 27, 36, 0]"
      ]
     },
     "execution_count": 5,
     "metadata": {},
     "output_type": "execute_result"
    }
   ],
   "source": [
    "# Для роботи поелементно на потрібно використовувати цикли\n",
    "lf = [i * 3 for i in ll]\n",
    "lf"
   ]
  },
  {
   "cell_type": "code",
   "execution_count": 6,
   "metadata": {},
   "outputs": [
    {
     "data": {
      "text/plain": [
       "[3.5, 5.0, 8.0, 8.5, 10.0, 4.0]"
      ]
     },
     "execution_count": 6,
     "metadata": {},
     "output_type": "execute_result"
    }
   ],
   "source": [
    "# Можна робоити і складніші математичні операції, одак тільки поелементно\n",
    "lf = [i / 2 + 4 for i in ll]\n",
    "lf"
   ]
  },
  {
   "cell_type": "code",
   "execution_count": 7,
   "metadata": {},
   "outputs": [],
   "source": [
    "from random import randint\n",
    "\n",
    "# Наступні 2 комірки будуть тормозити компютер тому що генерація 100 мільйонів чисел це досить багато даних\n",
    "#ll = list([randint(-5, 5) for _ in range(100000000)])\n",
    "# це генерувалось 51 секунду"
   ]
  },
  {
   "cell_type": "code",
   "execution_count": 8,
   "metadata": {},
   "outputs": [],
   "source": [
    "# цей масив буде ще більшим томущо ділення нам переведе цілочисельний тип int в з плаваючою крапкою float\n",
    "#lf = [i / 2 + 4 for i in ll]\n",
    "#lf[0:10]\n",
    "# Це операція виконувалась аж 10 секунд!"
   ]
  },
  {
   "cell_type": "markdown",
   "metadata": {},
   "source": [
    "- для роботи з дуже великим набором даних, використовувати базові методи Python стає неоптимально (довгий час виконання та займає бугуто оперативної памяті)"
   ]
  },
  {
   "cell_type": "code",
   "execution_count": 9,
   "metadata": {},
   "outputs": [
    {
     "data": {
      "text/plain": [
       "array([0.7155764 , 0.82784054, 0.64024582, 0.93760271, 0.51246423,\n",
       "       0.91158222, 0.3553986 , 0.87515908, 0.1091382 , 0.67154996])"
      ]
     },
     "execution_count": 9,
     "metadata": {},
     "output_type": "execute_result"
    }
   ],
   "source": [
    "nl = np.random.random(100000000)\n",
    "nl[0:10]\n",
    "# тут такий жеж великий обсяг даних ми гненерували менше ніж за секунду!"
   ]
  },
  {
   "cell_type": "code",
   "execution_count": 10,
   "metadata": {},
   "outputs": [
    {
     "data": {
      "text/plain": [
       "array([4.3577882 , 4.41392027, 4.32012291, 4.46880136, 4.25623211,\n",
       "       4.45579111, 4.1776993 , 4.43757954, 4.0545691 , 4.33577498])"
      ]
     },
     "execution_count": 10,
     "metadata": {},
     "output_type": "execute_result"
    }
   ],
   "source": [
    "# використовуючи бібліотеку numpy ми можемо працювати з числами швидко та у зрозумілому для нас форматі\n",
    "# і щоб операції були виконані над всіма елементами масиву нам не потрібні цикли!\n",
    "nf = nl / 2 + 4\n",
    "nf[0:10]"
   ]
  },
  {
   "cell_type": "code",
   "execution_count": 22,
   "metadata": {},
   "outputs": [
    {
     "data": {
      "text/plain": [
       "array([4, 4, 9])"
      ]
     },
     "execution_count": 22,
     "metadata": {},
     "output_type": "execute_result"
    }
   ],
   "source": [
    "# У Пайтон набір даних це є список (list)\n",
    "# При використання бібліотеки numpy - набір даних буде називатись масив (array)\n",
    "ll = [\"4\", 4, 9]\n",
    "na = np.array(ll,dtype=int)\n",
    "na"
   ]
  },
  {
   "cell_type": "code",
   "execution_count": 19,
   "metadata": {},
   "outputs": [
    {
     "data": {
      "text/plain": [
       "array([1.75 , 2.   , 2.625])"
      ]
     },
     "execution_count": 19,
     "metadata": {},
     "output_type": "execute_result"
    }
   ],
   "source": [
    "(na + 12) / 8 "
   ]
  },
  {
   "cell_type": "code",
   "execution_count": 28,
   "metadata": {},
   "outputs": [
    {
     "data": {
      "text/plain": [
       "array([ 1,  6, 26, 46])"
      ]
     },
     "execution_count": 28,
     "metadata": {},
     "output_type": "execute_result"
    }
   ],
   "source": [
    "# вектор рядок\n",
    "a = np.array([1, 2, 6, 10]) # дані в рядок / горизонтальні\n",
    "a*5 - 4"
   ]
  },
  {
   "cell_type": "code",
   "execution_count": 26,
   "metadata": {},
   "outputs": [
    {
     "data": {
      "text/plain": [
       "array([[ 1],\n",
       "       [ 6],\n",
       "       [26]])"
      ]
     },
     "execution_count": 26,
     "metadata": {},
     "output_type": "execute_result"
    }
   ],
   "source": [
    "# і може бути вектор стовпець\n",
    "b = np.array([[1], [2], [6]]) # просто дані тепер розміщуються вертикально\n",
    "b*5 - 4"
   ]
  },
  {
   "cell_type": "code",
   "execution_count": 36,
   "metadata": {},
   "outputs": [
    {
     "name": "stdout",
     "output_type": "stream",
     "text": [
      "Вектор стрічка буде мати форму: (4,)\n",
      "А вектор стовпець буде мати форму: (3, 1)\n",
      "Для вектор рядка має кількість вимірів: 1\n",
      "А для вектор стовпця вже буде: 2\n"
     ]
    }
   ],
   "source": [
    "print(f\"Вектор стрічка буде мати форму: {a.shape}\\nА вектор стовпець буде мати форму: {b.shape}\")\n",
    "print(f\"Для вектор рядка має кількість вимірів: {a.ndim}\\nА для вектор стовпця вже буде: {b.ndim}\")"
   ]
  },
  {
   "cell_type": "markdown",
   "metadata": {},
   "source": [
    "- методи створення numpy масиві з заданою послідовністю чисел\n",
    "> задана послідовність - це числа з кроком, або набір по наростанню або спаданню\n",
    "> може ще бути випадковий набір чисел, але це відноситься до бібліотек random"
   ]
  },
  {
   "cell_type": "code",
   "execution_count": 44,
   "metadata": {},
   "outputs": [
    {
     "data": {
      "text/plain": [
       "1"
      ]
     },
     "execution_count": 44,
     "metadata": {},
     "output_type": "execute_result"
    }
   ],
   "source": [
    "# послідовні дані можна згенерувати вбудованою функцією range, але це не спосіб роботи з numpy\n",
    "# по замовчуванню, числа генеруються від 0\n",
    "# крок генерації по замовчуванню буде 1\n",
    "np.arange(5, 50, 0.2).shape\n",
    "# тут буде в основному згенеровано вектор рядки / стрічки / горизонтальні набір даних"
   ]
  }
 ],
 "metadata": {
  "kernelspec": {
   "display_name": "Python 3",
   "language": "python",
   "name": "python3"
  },
  "language_info": {
   "codemirror_mode": {
    "name": "ipython",
    "version": 3
   },
   "file_extension": ".py",
   "mimetype": "text/x-python",
   "name": "python",
   "nbconvert_exporter": "python",
   "pygments_lexer": "ipython3",
   "version": "3.11.5"
  }
 },
 "nbformat": 4,
 "nbformat_minor": 2
}
