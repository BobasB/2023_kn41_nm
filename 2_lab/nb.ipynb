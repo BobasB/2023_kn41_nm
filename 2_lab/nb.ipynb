{
 "cells": [
  {
   "cell_type": "markdown",
   "metadata": {},
   "source": [
    "### Основи Python\n",
    "#### Вбудовані типи даних\n",
    "- текстові/символьний тип даних"
   ]
  },
  {
   "cell_type": "code",
   "execution_count": 6,
   "metadata": {},
   "outputs": [
    {
     "name": "stdout",
     "output_type": "stream",
     "text": [
      "Тут ми передаємо стрічку яку хочемо вивести\n",
      "Створили змінну з пустою стрічкою|  |Звісно у змінній а була пуста стрічка. Це не змінює того факту що тип даної змінної буде: <class 'str'>\n",
      "Обидві змінні будуть мати однаковий тип:  <class 'str'> є таким самим як  <class 'str'>\n"
     ]
    }
   ],
   "source": [
    "print(\"Тут ми передаємо стрічку яку хочемо вивести\")\n",
    "a = \"\"\n",
    "print(\"Створили змінну з пустою стрічкою|\", \n",
    "      a, \n",
    "      \"|Звісно у змінній а була пуста стрічка.\", \n",
    "      \"Це не змінює того факту що тип даної змінної буде:\",\n",
    "      type(a))\n",
    "# коли Пайтон працює з стрічками то настправді він це робить ось так:\n",
    "b = str(\"Це буде стрічка обєкт\")\n",
    "print(\"Обидві змінні будуть мати однаковий тип: \", type(a), \"є таким самим як \", type(b))"
   ]
  },
  {
   "cell_type": "markdown",
   "metadata": {},
   "source": [
    "- конкатенація (додавання) та множення стрічок"
   ]
  },
  {
   "cell_type": "code",
   "execution_count": 15,
   "metadata": {},
   "outputs": [
    {
     "name": "stdout",
     "output_type": "stream",
     "text": [
      "Здійснюємо конкатенацію \n",
      "метод 1: стрічка_1 для тестудруга стрічка \n",
      "метод 2: стрічка_1 для тестудруга стрічка\n",
      "Множення стрічок\n",
      "метод 1: -<!>--<!>--<!>--<!>--<!>- \n",
      "метод 2: -<!>--<!>--<!>--<!>--<!>-\n",
      "     !     \n",
      "    !!!    \n",
      "   !!!!!   \n"
     ]
    }
   ],
   "source": [
    "c = \"стрічка_1 для тесту\"\n",
    "d = \"друга стрічка\"\n",
    "\n",
    "print(\"Здійснюємо конкатенацію \\nметод 1:\", c + d,\n",
    "      \"\\nметод 2:\", c.__add__(d))\n",
    "\n",
    "print(\"Множення стрічок\\nметод 1:\", \"-<!>-\" * 5,\n",
    "      \"\\nметод 2:\", \"-<!>-\".__mul__(5))\n",
    "# Найпростіший приклад це просто побавитись з виводом символі, найчастіше за допомогою циклів\n",
    "print(\" \" * 5 + \"!\" * 1 + \" \" * 5)\n",
    "print(\" \" * 4 + \"!\" * 3 + \" \" * 4)\n",
    "print(\" \" * 3 + \"!\" * 5 + \" \" * 3)"
   ]
  },
  {
   "cell_type": "markdown",
   "metadata": {},
   "source": [
    "- чисельні типи даних"
   ]
  },
  {
   "cell_type": "code",
   "execution_count": 15,
   "metadata": {},
   "outputs": [
    {
     "name": "stdout",
     "output_type": "stream",
     "text": [
      "Пайтон самостійно визначає тип даних відповідно до внесеного значення:\n",
      " <class 'int'> буде мати значення 5 <class 'float'> буде мати значення 5.0\n",
      "Числа будуть автоматично переведені до свого типу:\n",
      " Значення ii =  5 <class 'int'> Значення ff =  5.0 <class 'float'>\n"
     ]
    }
   ],
   "source": [
    "i = 5\n",
    "f = 5.0\n",
    "print(\"Пайтон самостійно визначає тип даних відповідно до внесеного значення:\\n\", \n",
    "      type(i), \"буде мати значення\",i,\n",
    "      type(f), \"буде мати значення\",f)\n",
    "\n",
    "ii = int(5.25)\n",
    "ff = float(5)\n",
    "print(\"Числа будуть автоматично переведені до свого типу:\\n\",\n",
    "      \"Значення ii = \",ii,type(ii), \n",
    "      \"Значення ff = \",ff,type(ff) )"
   ]
  },
  {
   "cell_type": "markdown",
   "metadata": {},
   "source": [
    "- неявне перетворення типів"
   ]
  },
  {
   "cell_type": "code",
   "execution_count": 16,
   "metadata": {},
   "outputs": [
    {
     "name": "stdout",
     "output_type": "stream",
     "text": [
      "Тут відбулось перетвонення типу на  <class 'float'>  і значення тепер буде: 5.25\n"
     ]
    }
   ],
   "source": [
    "ii += 0.25\n",
    "\n",
    "print(\"Тут відбулось перетвонення типу на \", type(ii), \" і значення тепер буде:\", ii)\n",
    "# ! обережно, кожного разу коли виконується комірка, до ii додається значення 0.25"
   ]
  },
  {
   "cell_type": "markdown",
   "metadata": {},
   "source": [
    "- неявне представлення чисел та операції над ними\n",
    ">будуть виникати помилки"
   ]
  },
  {
   "cell_type": "code",
   "execution_count": 19,
   "metadata": {},
   "outputs": [
    {
     "name": "stdout",
     "output_type": "stream",
     "text": [
      "При воводі у нас буде, ii = 5 ss = 5\n"
     ]
    },
    {
     "ename": "TypeError",
     "evalue": "unsupported operand type(s) for +: 'int' and 'str'",
     "output_type": "error",
     "traceback": [
      "\u001b[1;31m---------------------------------------------------------------------------\u001b[0m",
      "\u001b[1;31mTypeError\u001b[0m                                 Traceback (most recent call last)",
      "\u001b[1;32mc:\\IT_College_Students\\2023_kn41_nm\\2_lab\\nb.ipynb Cell 10\u001b[0m line \u001b[0;36m7\n\u001b[0;32m      <a href='vscode-notebook-cell:/c%3A/IT_College_Students/2023_kn41_nm/2_lab/nb.ipynb#X12sZmlsZQ%3D%3D?line=3'>4</a>\u001b[0m \u001b[39mprint\u001b[39m(\u001b[39m\"\u001b[39m\u001b[39mПри воводі у нас буде, ii =\u001b[39m\u001b[39m\"\u001b[39m, ii, \u001b[39m\"\u001b[39m\u001b[39mss =\u001b[39m\u001b[39m\"\u001b[39m, ss)\n\u001b[0;32m      <a href='vscode-notebook-cell:/c%3A/IT_College_Students/2023_kn41_nm/2_lab/nb.ipynb#X12sZmlsZQ%3D%3D?line=5'>6</a>\u001b[0m \u001b[39m# Наступна команда видасть помилку\u001b[39;00m\n\u001b[1;32m----> <a href='vscode-notebook-cell:/c%3A/IT_College_Students/2023_kn41_nm/2_lab/nb.ipynb#X12sZmlsZQ%3D%3D?line=6'>7</a>\u001b[0m \u001b[39mprint\u001b[39m(ii \u001b[39m+\u001b[39;49m ss)\n",
      "\u001b[1;31mTypeError\u001b[0m: unsupported operand type(s) for +: 'int' and 'str'"
     ]
    }
   ],
   "source": [
    "ii = int(5)\n",
    "ss = str(5)\n",
    "\n",
    "print(\"При воводі у нас буде, ii =\", ii, \"ss =\", ss)\n",
    "\n",
    "# Наступна команда видасть помилку\n",
    "print(ii + ss)"
   ]
  },
  {
   "cell_type": "code",
   "execution_count": 20,
   "metadata": {},
   "outputs": [
    {
     "ename": "TypeError",
     "evalue": "can only concatenate str (not \"int\") to str",
     "output_type": "error",
     "traceback": [
      "\u001b[1;31m---------------------------------------------------------------------------\u001b[0m",
      "\u001b[1;31mTypeError\u001b[0m                                 Traceback (most recent call last)",
      "\u001b[1;32mc:\\IT_College_Students\\2023_kn41_nm\\2_lab\\nb.ipynb Cell 11\u001b[0m line \u001b[0;36m2\n\u001b[0;32m      <a href='vscode-notebook-cell:/c%3A/IT_College_Students/2023_kn41_nm/2_lab/nb.ipynb#X13sZmlsZQ%3D%3D?line=0'>1</a>\u001b[0m \u001b[39m# це також видасть помилку\u001b[39;00m\n\u001b[1;32m----> <a href='vscode-notebook-cell:/c%3A/IT_College_Students/2023_kn41_nm/2_lab/nb.ipynb#X13sZmlsZQ%3D%3D?line=1'>2</a>\u001b[0m \u001b[39mprint\u001b[39m(ss \u001b[39m+\u001b[39;49m ii)\n",
      "\u001b[1;31mTypeError\u001b[0m: can only concatenate str (not \"int\") to str"
     ]
    }
   ],
   "source": [
    "# це також видасть помилку\n",
    "print(ss + ii)"
   ]
  },
  {
   "cell_type": "code",
   "execution_count": 22,
   "metadata": {},
   "outputs": [
    {
     "name": "stdout",
     "output_type": "stream",
     "text": [
      "10\n",
      "55\n"
     ]
    }
   ],
   "source": [
    "# Щоб не було помилки ми явно пертворюємо дані в правильний тип\n",
    "print(ii + int(ss))\n",
    "print(ss + str(ii))"
   ]
  },
  {
   "cell_type": "markdown",
   "metadata": {},
   "source": [
    "- числові типи даних мають повний набір арифметичних операцій"
   ]
  },
  {
   "cell_type": "code",
   "execution_count": 45,
   "metadata": {},
   "outputs": [
    {
     "name": "stdout",
     "output_type": "stream",
     "text": [
      "стрічка!\n",
      "стрічкастрічкастрічкастрічкастрічка\n",
      "4\n",
      "3.0\n",
      "3.0\n",
      "2.5\n",
      "Рузультат операцій звичний для людини:  9.5\n",
      "Рузультат операцій звичний для Python:  9.5\n"
     ]
    }
   ],
   "source": [
    "ss = str(\"стрічка\")\n",
    "ii = int(6)\n",
    "ff = float(5)\n",
    "# у стрічок є тільки додавання та множення\n",
    "print(ss.__add__(\"!\"))\n",
    "print(ss.__mul__(5))\n",
    "# у чисел ще буде віднімання та ділення\n",
    "print(ii.__sub__(2))\n",
    "print(ii.__truediv__(2))\n",
    "print(ff.__sub__(2))\n",
    "print(ff.__truediv__(2))\n",
    "\n",
    "# Для складніших обрахунів будемо мати щось от таке:\n",
    "a = 3\n",
    "b = 4\n",
    "c = 5\n",
    "\n",
    "res = a + b + c / 2\n",
    "print(\"Рузультат операцій звичний для людини: \", res)\n",
    "\n",
    "res2 = c.__truediv__(2).__add__(b).__add__(a)\n",
    "\n",
    "print(\"Рузультат операцій звичний для Python: \", res2)"
   ]
  }
 ],
 "metadata": {
  "kernelspec": {
   "display_name": "Python 3",
   "language": "python",
   "name": "python3"
  },
  "language_info": {
   "codemirror_mode": {
    "name": "ipython",
    "version": 3
   },
   "file_extension": ".py",
   "mimetype": "text/x-python",
   "name": "python",
   "nbconvert_exporter": "python",
   "pygments_lexer": "ipython3",
   "version": "3.11.5"
  },
  "orig_nbformat": 4
 },
 "nbformat": 4,
 "nbformat_minor": 2
}
