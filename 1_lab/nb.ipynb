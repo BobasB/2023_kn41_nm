{
 "cells": [
  {
   "cell_type": "markdown",
   "metadata": {},
   "source": [
    "### Працюємо з Python в інтерактивному режимі\n",
    ">розібємо програмуна частини, які помістимо у різні комірки та будемо писати пояснення до неї."
   ]
  },
  {
   "cell_type": "markdown",
   "metadata": {},
   "source": [
    "- комірка з імпортом бібліотек:"
   ]
  },
  {
   "cell_type": "code",
   "execution_count": 2,
   "metadata": {},
   "outputs": [],
   "source": [
    "from datetime import datetime"
   ]
  },
  {
   "cell_type": "markdown",
   "metadata": {},
   "source": [
    "- комірка для задання змінних:"
   ]
  },
  {
   "cell_type": "code",
   "execution_count": 3,
   "metadata": {},
   "outputs": [],
   "source": [
    "name = \"Богдан\"\n",
    "location = \"Україна\" "
   ]
  },
  {
   "cell_type": "markdown",
   "metadata": {},
   "source": [
    "- виводимо текст першої програми:"
   ]
  },
  {
   "cell_type": "code",
   "execution_count": 5,
   "metadata": {},
   "outputs": [
    {
     "name": "stdout",
     "output_type": "stream",
     "text": [
      "Богдан розпочав вчитись програмуванню о 2023-09-21 10:44:01.338266.\n",
      "Доброго вечора ми з Україна ❤ !\n"
     ]
    }
   ],
   "source": [
    "print(f\"{name} розпочав вчитись програмуванню о {datetime.now()}.\\nДоброго вечора ми з {location} \\u2764 !\")"
   ]
  },
  {
   "cell_type": "markdown",
   "metadata": {},
   "source": [
    "### Запитались в ChatGPT як би він написав першу програму\n",
    ">відповідь буде трохи модифікованою щоб коректно вставити у Notebook"
   ]
  },
  {
   "cell_type": "markdown",
   "metadata": {},
   "source": [
    "Звісно, ось початкова програма на мові Python разом з поясненнями, яку ви можете вставити у Jupyter Notebook. Ця програма виведе привітання на екран:\n",
    "\n",
    "### Початкова програма на Python"
   ]
  },
  {
   "cell_type": "code",
   "execution_count": 6,
   "metadata": {},
   "outputs": [
    {
     "name": "stdout",
     "output_type": "stream",
     "text": [
      "Привіт, світе!\n"
     ]
    }
   ],
   "source": [
    "# Це є коментар, який не впливає на виконання програми.\n",
    "# Мова програмування Python ігнорує рядки, які починаються з символу #.\n",
    "\n",
    "# Ось наша перша програма на Python:\n",
    "print(\"Привіт, світе!\")\n",
    "\n",
    "# Функція print() використовується для виведення тексту на екран.\n",
    "# У цьому випадку вона виводить рядок \"Привіт, світе!\"."
   ]
  },
  {
   "cell_type": "markdown",
   "metadata": {},
   "source": [
    "В даному коді ми використовуємо функцію `print()` для виведення рядка \"Привіт, світе!\" на екран. Коментарі, починаючи з символу `#`, служать для пояснення коду і не впливають на його виконання.\n",
    "\n",
    "Якщо у вас виникають додаткові запитання або потрібні додаткові пояснення, не соромтеся питати. Успішного вивчення програмування на Python!"
   ]
  }
 ],
 "metadata": {
  "kernelspec": {
   "display_name": "Python 3",
   "language": "python",
   "name": "python3"
  },
  "language_info": {
   "codemirror_mode": {
    "name": "ipython",
    "version": 3
   },
   "file_extension": ".py",
   "mimetype": "text/x-python",
   "name": "python",
   "nbconvert_exporter": "python",
   "pygments_lexer": "ipython3",
   "version": "3.11.5"
  },
  "orig_nbformat": 4
 },
 "nbformat": 4,
 "nbformat_minor": 2
}
