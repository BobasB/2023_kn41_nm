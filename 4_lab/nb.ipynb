{
 "cells": [
  {
   "cell_type": "code",
   "execution_count": 1,
   "metadata": {},
   "outputs": [],
   "source": [
    "import numpy as np"
   ]
  },
  {
   "cell_type": "code",
   "execution_count": 2,
   "metadata": {},
   "outputs": [
    {
     "data": {
      "text/plain": [
       "dtype('float64')"
      ]
     },
     "execution_count": 2,
     "metadata": {},
     "output_type": "execute_result"
    }
   ],
   "source": [
    "# ми не задумуємось якого саме типу будуть дані, пайтон сам підбирає це тип за нас\n",
    "a = np.array([1,1.])\n",
    "# якщо ми у масиві задани числа з плаваючою комою, тоді дані будуть типу:\n",
    "a.dtype"
   ]
  },
  {
   "cell_type": "code",
   "execution_count": 3,
   "metadata": {},
   "outputs": [
    {
     "data": {
      "text/plain": [
       "dtype('int32')"
      ]
     },
     "execution_count": 3,
     "metadata": {},
     "output_type": "execute_result"
    }
   ],
   "source": [
    "# для простоих чисел, не залежно від знаку буде тип int\n",
    "b = np.array([-1])\n",
    "b.dtype"
   ]
  },
  {
   "cell_type": "code",
   "execution_count": 4,
   "metadata": {},
   "outputs": [
    {
     "name": "stderr",
     "output_type": "stream",
     "text": [
      "C:\\Users\\Admin\\AppData\\Local\\Temp\\ipykernel_14676\\690972135.py:3: DeprecationWarning: NumPy will stop allowing conversion of out-of-bound Python integers to integer arrays.  The conversion of 129 to int8 will fail in the future.\n",
      "For the old behavior, usually:\n",
      "    np.array(value).astype(dtype)\n",
      "will give the desired result (the cast overflows).\n",
      "  c = np.array([2, 5, 129], dtype=np.int8)\n"
     ]
    },
    {
     "data": {
      "text/plain": [
       "array([   2,    5, -127], dtype=int8)"
      ]
     },
     "execution_count": 4,
     "metadata": {},
     "output_type": "execute_result"
    }
   ],
   "source": [
    "# якщо ми точно знаємо які дані у нас будуть, то можемо самостійно впливати/задавати розмірність однієї комірки\n",
    "# задамо масив з найменшим значення розміру комірки\n",
    "c = np.array([2, 5, 129], dtype=np.int8)\n",
    "c.dtype\n",
    "c\n",
    "# при Int8 ми можемо оперувати числами від -127 до +127, томущо весь діапазон всього 8 біт\n",
    "# розмір кожної комірки напряму впиває на Память яку займає програма"
   ]
  },
  {
   "cell_type": "code",
   "execution_count": 5,
   "metadata": {},
   "outputs": [
    {
     "data": {
      "text/plain": [
       "numpy.int16"
      ]
     },
     "execution_count": 5,
     "metadata": {},
     "output_type": "execute_result"
    }
   ],
   "source": [
    "# можемо подививтись вбудованітипи даних\n",
    "np.int16"
   ]
  },
  {
   "cell_type": "code",
   "execution_count": 6,
   "metadata": {},
   "outputs": [
    {
     "name": "stdout",
     "output_type": "stream",
     "text": [
      "Середня температура по всіх містах: 1.5 гадуси\n",
      "Всього маємо: (2,) міст у нашому масиві\n"
     ]
    },
    {
     "data": {
      "text/plain": [
       "('Odessa', 5)"
      ]
     },
     "execution_count": 6,
     "metadata": {},
     "output_type": "execute_result"
    }
   ],
   "source": [
    "# або можемо створювати власні типи даних для наших потреб\n",
    "# для прикладу ми створимо тип даних який буде зберігати температуру з привязкою до міста\n",
    "dt = np.dtype([(\"city\", np.compat.unicode, 20), (\"temperature\", np.int8)])\n",
    "\n",
    "t = np.array([(\"Lviv\", -2), (\"Odessa\", 5)], dtype=dt)\n",
    "# Ми можемо наприклад знайти середнє начення температур по містах\n",
    "print(f\"Середня температура по всіх містах: {t['temperature'].mean()} гадуси\")\n",
    "print(f\"Всього маємо: {t['city'].shape} міст у нашому масиві\")\n",
    "t[1]"
   ]
  },
  {
   "cell_type": "code",
   "execution_count": 7,
   "metadata": {},
   "outputs": [],
   "source": [
    "# Дані з якими працюємо можемо зберегти у файл (не-компресований архів)\n",
    "\n",
    "# одноразво ми згенеруємо великий масив випадкових значень та збережемо його у файл\n",
    "nl = np.random.random(100000000)\n",
    "# Для збереження багатьох масиві у єдинй файл ми повинні вказати ключі для цих масивів\n",
    "np.savez(\"my_mass.npz\", a=a, b=b, c=c, nl=nl)\n",
    "# Ствонений файл .npz не потрібно закидати в гіт бо він буде дуже великим"
   ]
  },
  {
   "cell_type": "code",
   "execution_count": 8,
   "metadata": {},
   "outputs": [
    {
     "name": "stdout",
     "output_type": "stream",
     "text": [
      "[  12   15 -117]\n"
     ]
    }
   ],
   "source": [
    "# Звісно збережені дані можна вичитати у будь-який час\n",
    "l = np.load(\"my_mass.npz\")\n",
    "# при вичитуванні, ми повинні вказати який саме з масивів ми хочемо вивести\n",
    "l\n",
    "print(l[\"c\"] + 10)"
   ]
  },
  {
   "cell_type": "code",
   "execution_count": 9,
   "metadata": {},
   "outputs": [],
   "source": [
    "np.save(\"my_mass.npy\", nl)"
   ]
  },
  {
   "cell_type": "code",
   "execution_count": 10,
   "metadata": {},
   "outputs": [
    {
     "data": {
      "text/plain": [
       "array([0.18038562, 0.96237239, 0.41424338, ..., 0.51937029, 0.28426165,\n",
       "       0.28948803])"
      ]
     },
     "execution_count": 10,
     "metadata": {},
     "output_type": "execute_result"
    }
   ],
   "source": [
    "n = np.load(\"my_mass.npy\")\n",
    "n"
   ]
  },
  {
   "cell_type": "code",
   "execution_count": 11,
   "metadata": {},
   "outputs": [
    {
     "name": "stdout",
     "output_type": "stream",
     "text": [
      "number,date,data\n",
      "1,30.11.2023,5\n",
      "2,1.12.2023,17\n",
      "number,date,data\n",
      "\n",
      "['number,date,data\\n', '1,30.11.2023,5\\n', '2,1.12.2023,17']\n"
     ]
    }
   ],
   "source": [
    "# ми можемо будь-який файл  прочитати за допомогою вбудований методів Пайтона, але чи добре ми зможемо використовувати прочитані дані\n",
    "with open(\"1.csv\") as f:\n",
    "    print(f.read())\n",
    "    f.seek(0)  # Дани команда переводить курсир читання у файлі на його початок\n",
    "    print(f.readline())\n",
    "    f.seek(0) \n",
    "    print(f.readlines())"
   ]
  },
  {
   "cell_type": "markdown",
   "metadata": {},
   "source": [
    "- delimiter=',': вказує, що роздільник в CSV-файлі - це кома.\n",
    "- names=True: вказує, що перший рядок файлу містить назви стовпців.\n",
    "- dtype=None: дозволяє NumPy визначити типи даних автоматично.\n",
    "- encoding=None: вказує на автоматичне визначення кодування файлу."
   ]
  },
  {
   "cell_type": "code",
   "execution_count": 27,
   "metadata": {},
   "outputs": [
    {
     "data": {
      "text/plain": [
       "array([(1, '30.11.2023',  5), (2, '1.12.2023', 17)],\n",
       "      dtype=[('number', '<i4'), ('date', '<U10'), ('data', '<i4')])"
      ]
     },
     "execution_count": 27,
     "metadata": {},
     "output_type": "execute_result"
    }
   ],
   "source": [
    "# Для нормальної вичитування даних з CSV формату ми використаємо\n",
    "nc = np.genfromtxt(\"1.csv\", delimiter=\",\", names=True, dtype=None, encoding=None)\n",
    "nc"
   ]
  }
 ],
 "metadata": {
  "kernelspec": {
   "display_name": "Python 3",
   "language": "python",
   "name": "python3"
  },
  "language_info": {
   "codemirror_mode": {
    "name": "ipython",
    "version": 3
   },
   "file_extension": ".py",
   "mimetype": "text/x-python",
   "name": "python",
   "nbconvert_exporter": "python",
   "pygments_lexer": "ipython3",
   "version": "3.11.5"
  }
 },
 "nbformat": 4,
 "nbformat_minor": 2
}
