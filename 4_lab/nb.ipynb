{
 "cells": [
  {
   "cell_type": "code",
   "execution_count": 1,
   "metadata": {},
   "outputs": [],
   "source": [
    "import numpy as np"
   ]
  },
  {
   "cell_type": "code",
   "execution_count": 2,
   "metadata": {},
   "outputs": [
    {
     "data": {
      "text/plain": [
       "dtype('float64')"
      ]
     },
     "execution_count": 2,
     "metadata": {},
     "output_type": "execute_result"
    }
   ],
   "source": [
    "# ми не задумуємось якого саме типу будуть дані, пайтон сам підбирає це тип за нас\n",
    "a = np.array([1,1.])\n",
    "# якщо ми у масиві задани числа з плаваючою комою, тоді дані будуть типу:\n",
    "a.dtype"
   ]
  },
  {
   "cell_type": "code",
   "execution_count": 3,
   "metadata": {},
   "outputs": [
    {
     "data": {
      "text/plain": [
       "dtype('int32')"
      ]
     },
     "execution_count": 3,
     "metadata": {},
     "output_type": "execute_result"
    }
   ],
   "source": [
    "# для простоих чисел, не залежно від знаку буде тип int\n",
    "b = np.array([-1])\n",
    "b.dtype"
   ]
  },
  {
   "cell_type": "code",
   "execution_count": 4,
   "metadata": {},
   "outputs": [
    {
     "name": "stderr",
     "output_type": "stream",
     "text": [
      "C:\\Users\\Admin\\AppData\\Local\\Temp\\ipykernel_15260\\690972135.py:3: DeprecationWarning: NumPy will stop allowing conversion of out-of-bound Python integers to integer arrays.  The conversion of 129 to int8 will fail in the future.\n",
      "For the old behavior, usually:\n",
      "    np.array(value).astype(dtype)\n",
      "will give the desired result (the cast overflows).\n",
      "  c = np.array([2, 5, 129], dtype=np.int8)\n"
     ]
    },
    {
     "data": {
      "text/plain": [
       "array([   2,    5, -127], dtype=int8)"
      ]
     },
     "execution_count": 4,
     "metadata": {},
     "output_type": "execute_result"
    }
   ],
   "source": [
    "# якщо ми точно знаємо які дані у нас будуть, то можемо самостійно впливати/задавати розмірність однієї комірки\n",
    "# задамо масив з найменшим значення розміру комірки\n",
    "c = np.array([2, 5, 129], dtype=np.int8)\n",
    "c.dtype\n",
    "c\n",
    "# при Int8 ми можемо оперувати числами від -127 до +127, томущо весь діапазон всього 8 біт\n",
    "# розмір кожної комірки напряму впиває на Память яку займає програма"
   ]
  },
  {
   "cell_type": "code",
   "execution_count": 5,
   "metadata": {},
   "outputs": [
    {
     "data": {
      "text/plain": [
       "numpy.int16"
      ]
     },
     "execution_count": 5,
     "metadata": {},
     "output_type": "execute_result"
    }
   ],
   "source": [
    "# можемо подививтись вбудованітипи даних\n",
    "np.int16"
   ]
  },
  {
   "cell_type": "code",
   "execution_count": 6,
   "metadata": {},
   "outputs": [
    {
     "name": "stdout",
     "output_type": "stream",
     "text": [
      "Середня температура по всіх містах: 1.5 гадуси\n",
      "Всього маємо: (2,) міст у нашому масиві\n"
     ]
    },
    {
     "data": {
      "text/plain": [
       "('Odessa', 5)"
      ]
     },
     "execution_count": 6,
     "metadata": {},
     "output_type": "execute_result"
    }
   ],
   "source": [
    "# або можемо створювати власні типи даних для наших потреб\n",
    "# для прикладу ми створимо тип даних який буде зберігати температуру з привязкою до міста\n",
    "dt = np.dtype([(\"city\", np.compat.unicode, 20), (\"temperature\", np.int8)])\n",
    "\n",
    "t = np.array([(\"Lviv\", -2), (\"Odessa\", 5)], dtype=dt)\n",
    "# Ми можемо наприклад знайти середнє начення температур по містах\n",
    "print(f\"Середня температура по всіх містах: {t['temperature'].mean()} гадуси\")\n",
    "print(f\"Всього маємо: {t['city'].shape} міст у нашому масиві\")\n",
    "t[1]"
   ]
  },
  {
   "cell_type": "code",
   "execution_count": 7,
   "metadata": {},
   "outputs": [],
   "source": [
    "# Дані з якими працюємо можемо зберегти у файл (компресований архів)\n",
    "np.savez()"
   ]
  }
 ],
 "metadata": {
  "kernelspec": {
   "display_name": "Python 3",
   "language": "python",
   "name": "python3"
  },
  "language_info": {
   "codemirror_mode": {
    "name": "ipython",
    "version": 3
   },
   "file_extension": ".py",
   "mimetype": "text/x-python",
   "name": "python",
   "nbconvert_exporter": "python",
   "pygments_lexer": "ipython3",
   "version": "3.11.5"
  }
 },
 "nbformat": 4,
 "nbformat_minor": 2
}
