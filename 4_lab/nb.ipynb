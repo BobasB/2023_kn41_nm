{
 "cells": [
  {
   "cell_type": "code",
   "execution_count": 1,
   "metadata": {},
   "outputs": [],
   "source": [
    "import numpy as np"
   ]
  },
  {
   "cell_type": "code",
   "execution_count": 2,
   "metadata": {},
   "outputs": [
    {
     "data": {
      "text/plain": [
       "dtype('float64')"
      ]
     },
     "execution_count": 2,
     "metadata": {},
     "output_type": "execute_result"
    }
   ],
   "source": [
    "# ми не задумуємось якого саме типу будуть дані, пайтон сам підбирає це тип за нас\n",
    "a = np.array([1,1.])\n",
    "# якщо ми у масиві задани числа з плаваючою комою, тоді дані будуть типу:\n",
    "a.dtype"
   ]
  },
  {
   "cell_type": "code",
   "execution_count": 3,
   "metadata": {},
   "outputs": [
    {
     "data": {
      "text/plain": [
       "dtype('int32')"
      ]
     },
     "execution_count": 3,
     "metadata": {},
     "output_type": "execute_result"
    }
   ],
   "source": [
    "# для простоих чисел, не залежно від знаку буде тип int\n",
    "b = np.array([-1])\n",
    "b.dtype"
   ]
  },
  {
   "cell_type": "code",
   "execution_count": 4,
   "metadata": {},
   "outputs": [
    {
     "name": "stderr",
     "output_type": "stream",
     "text": [
      "C:\\Users\\Admin\\AppData\\Local\\Temp\\ipykernel_14676\\690972135.py:3: DeprecationWarning: NumPy will stop allowing conversion of out-of-bound Python integers to integer arrays.  The conversion of 129 to int8 will fail in the future.\n",
      "For the old behavior, usually:\n",
      "    np.array(value).astype(dtype)\n",
      "will give the desired result (the cast overflows).\n",
      "  c = np.array([2, 5, 129], dtype=np.int8)\n"
     ]
    },
    {
     "data": {
      "text/plain": [
       "array([   2,    5, -127], dtype=int8)"
      ]
     },
     "execution_count": 4,
     "metadata": {},
     "output_type": "execute_result"
    }
   ],
   "source": [
    "# якщо ми точно знаємо які дані у нас будуть, то можемо самостійно впливати/задавати розмірність однієї комірки\n",
    "# задамо масив з найменшим значення розміру комірки\n",
    "c = np.array([2, 5, 129], dtype=np.int8)\n",
    "c.dtype\n",
    "c\n",
    "# при Int8 ми можемо оперувати числами від -127 до +127, томущо весь діапазон всього 8 біт\n",
    "# розмір кожної комірки напряму впиває на Память яку займає програма"
   ]
  },
  {
   "cell_type": "code",
   "execution_count": 5,
   "metadata": {},
   "outputs": [
    {
     "data": {
      "text/plain": [
       "numpy.int16"
      ]
     },
     "execution_count": 5,
     "metadata": {},
     "output_type": "execute_result"
    }
   ],
   "source": [
    "# можемо подививтись вбудованітипи даних\n",
    "np.int16"
   ]
  },
  {
   "cell_type": "code",
   "execution_count": 6,
   "metadata": {},
   "outputs": [
    {
     "name": "stdout",
     "output_type": "stream",
     "text": [
      "Середня температура по всіх містах: 1.5 гадуси\n",
      "Всього маємо: (2,) міст у нашому масиві\n"
     ]
    },
    {
     "data": {
      "text/plain": [
       "('Odessa', 5)"
      ]
     },
     "execution_count": 6,
     "metadata": {},
     "output_type": "execute_result"
    }
   ],
   "source": [
    "# або можемо створювати власні типи даних для наших потреб\n",
    "# для прикладу ми створимо тип даних який буде зберігати температуру з привязкою до міста\n",
    "dt = np.dtype([(\"city\", np.compat.unicode, 20), (\"temperature\", np.int8)])\n",
    "\n",
    "t = np.array([(\"Lviv\", -2), (\"Odessa\", 5)], dtype=dt)\n",
    "# Ми можемо наприклад знайти середнє начення температур по містах\n",
    "print(f\"Середня температура по всіх містах: {t['temperature'].mean()} гадуси\")\n",
    "print(f\"Всього маємо: {t['city'].shape} міст у нашому масиві\")\n",
    "t[1]"
   ]
  },
  {
   "cell_type": "code",
   "execution_count": 7,
   "metadata": {},
   "outputs": [],
   "source": [
    "# Дані з якими працюємо можемо зберегти у файл (не-компресований архів)\n",
    "\n",
    "# одноразво ми згенеруємо великий масив випадкових значень та збережемо його у файл\n",
    "nl = np.random.random(100000000)\n",
    "# Для збереження багатьох масиві у єдинй файл ми повинні вказати ключі для цих масивів\n",
    "np.savez(\"my_mass.npz\", a=a, b=b, c=c, nl=nl)\n",
    "# Ствонений файл .npz не потрібно закидати в гіт бо він буде дуже великим"
   ]
  },
  {
   "cell_type": "code",
   "execution_count": 8,
   "metadata": {},
   "outputs": [
    {
     "name": "stdout",
     "output_type": "stream",
     "text": [
      "[  12   15 -117]\n"
     ]
    }
   ],
   "source": [
    "# Звісно збережені дані можна вичитати у будь-який час\n",
    "l = np.load(\"my_mass.npz\")\n",
    "# при вичитуванні, ми повинні вказати який саме з масивів ми хочемо вивести\n",
    "l\n",
    "print(l[\"c\"] + 10)"
   ]
  },
  {
   "cell_type": "code",
   "execution_count": 9,
   "metadata": {},
   "outputs": [],
   "source": [
    "np.save(\"my_mass.npy\", nl)"
   ]
  },
  {
   "cell_type": "code",
   "execution_count": 10,
   "metadata": {},
   "outputs": [
    {
     "data": {
      "text/plain": [
       "array([0.18038562, 0.96237239, 0.41424338, ..., 0.51937029, 0.28426165,\n",
       "       0.28948803])"
      ]
     },
     "execution_count": 10,
     "metadata": {},
     "output_type": "execute_result"
    }
   ],
   "source": [
    "n = np.load(\"my_mass.npy\")\n",
    "n"
   ]
  },
  {
   "cell_type": "code",
   "execution_count": 11,
   "metadata": {},
   "outputs": [
    {
     "name": "stdout",
     "output_type": "stream",
     "text": [
      "number,date,data\n",
      "1,30.11.2023,5\n",
      "2,1.12.2023,17\n",
      "number,date,data\n",
      "\n",
      "['number,date,data\\n', '1,30.11.2023,5\\n', '2,1.12.2023,17']\n"
     ]
    }
   ],
   "source": [
    "# ми можемо будь-який файл  прочитати за допомогою вбудований методів Пайтона, але чи добре ми зможемо використовувати прочитані дані\n",
    "with open(\"1.csv\") as f:\n",
    "    print(f.read())\n",
    "    f.seek(0)  # Дани команда переводить курсир читання у файлі на його початок\n",
    "    print(f.readline())\n",
    "    f.seek(0) \n",
    "    print(f.readlines())"
   ]
  },
  {
   "cell_type": "code",
   "execution_count": 22,
   "metadata": {},
   "outputs": [
    {
     "ename": "TypeError",
     "evalue": "data type 'number' not understood",
     "output_type": "error",
     "traceback": [
      "\u001b[1;31m---------------------------------------------------------------------------\u001b[0m",
      "\u001b[1;31mTypeError\u001b[0m                                 Traceback (most recent call last)",
      "File \u001b[1;32mc:\\Users\\Admin\\AppData\\Local\\Programs\\Python\\Python311\\Lib\\site-packages\\numpy\\lib\\_iotools.py:861\u001b[0m, in \u001b[0;36measy_dtype\u001b[1;34m(ndtype, names, defaultfmt, **validationargs)\u001b[0m\n\u001b[0;32m    860\u001b[0m \u001b[39mtry\u001b[39;00m:\n\u001b[1;32m--> 861\u001b[0m     ndtype \u001b[39m=\u001b[39m np\u001b[39m.\u001b[39;49mdtype(ndtype)\n\u001b[0;32m    862\u001b[0m \u001b[39mexcept\u001b[39;00m \u001b[39mTypeError\u001b[39;00m:\n",
      "\u001b[1;31mTypeError\u001b[0m: Tuple must have size 2, but has size 3",
      "\nDuring handling of the above exception, another exception occurred:\n",
      "\u001b[1;31mTypeError\u001b[0m                                 Traceback (most recent call last)",
      "\u001b[1;32mc:\\IT_College_Students\\2023_kn41_nm\\4_lab\\nb.ipynb Cell 12\u001b[0m line \u001b[0;36m2\n\u001b[0;32m      <a href='vscode-notebook-cell:/c%3A/IT_College_Students/2023_kn41_nm/4_lab/nb.ipynb#X14sZmlsZQ%3D%3D?line=0'>1</a>\u001b[0m \u001b[39m# Для нормальної вичитування даних з CSV формату ми використаємо\u001b[39;00m\n\u001b[1;32m----> <a href='vscode-notebook-cell:/c%3A/IT_College_Students/2023_kn41_nm/4_lab/nb.ipynb#X14sZmlsZQ%3D%3D?line=1'>2</a>\u001b[0m nc \u001b[39m=\u001b[39m np\u001b[39m.\u001b[39;49mgenfromtxt(\u001b[39m\"\u001b[39;49m\u001b[39m1.csv\u001b[39;49m\u001b[39m\"\u001b[39;49m, delimiter\u001b[39m=\u001b[39;49m\u001b[39m\"\u001b[39;49m\u001b[39m,\u001b[39;49m\u001b[39m\"\u001b[39;49m, dtype\u001b[39m=\u001b[39;49m((\u001b[39m\"\u001b[39;49m\u001b[39mnumber\u001b[39;49m\u001b[39m\"\u001b[39;49m,np\u001b[39m.\u001b[39;49mint8), (\u001b[39m\"\u001b[39;49m\u001b[39mdate\u001b[39;49m\u001b[39m\"\u001b[39;49m,np\u001b[39m.\u001b[39;49mint8), (\u001b[39m\"\u001b[39;49m\u001b[39mdata\u001b[39;49m\u001b[39m\"\u001b[39;49m,np\u001b[39m.\u001b[39;49mint8) ), skip_header\u001b[39m=\u001b[39;49m\u001b[39mTrue\u001b[39;49;00m)\n\u001b[0;32m      <a href='vscode-notebook-cell:/c%3A/IT_College_Students/2023_kn41_nm/4_lab/nb.ipynb#X14sZmlsZQ%3D%3D?line=2'>3</a>\u001b[0m nc\n",
      "File \u001b[1;32mc:\\Users\\Admin\\AppData\\Local\\Programs\\Python\\Python311\\Lib\\site-packages\\numpy\\lib\\npyio.py:2049\u001b[0m, in \u001b[0;36mgenfromtxt\u001b[1;34m(fname, dtype, comments, delimiter, skip_header, skip_footer, converters, missing_values, filling_values, usecols, names, excludelist, deletechars, replace_space, autostrip, case_sensitive, defaultfmt, unpack, usemask, loose, invalid_raise, max_rows, encoding, ndmin, like)\u001b[0m\n\u001b[0;32m   2047\u001b[0m \u001b[39m# Get the dtype\u001b[39;00m\n\u001b[0;32m   2048\u001b[0m \u001b[39mif\u001b[39;00m dtype \u001b[39mis\u001b[39;00m \u001b[39mnot\u001b[39;00m \u001b[39mNone\u001b[39;00m:\n\u001b[1;32m-> 2049\u001b[0m     dtype \u001b[39m=\u001b[39m easy_dtype(dtype, defaultfmt\u001b[39m=\u001b[39;49mdefaultfmt, names\u001b[39m=\u001b[39;49mnames,\n\u001b[0;32m   2050\u001b[0m                        excludelist\u001b[39m=\u001b[39;49mexcludelist,\n\u001b[0;32m   2051\u001b[0m                        deletechars\u001b[39m=\u001b[39;49mdeletechars,\n\u001b[0;32m   2052\u001b[0m                        case_sensitive\u001b[39m=\u001b[39;49mcase_sensitive,\n\u001b[0;32m   2053\u001b[0m                        replace_space\u001b[39m=\u001b[39;49mreplace_space)\n\u001b[0;32m   2054\u001b[0m \u001b[39m# Make sure the names is a list (for 2.5)\u001b[39;00m\n\u001b[0;32m   2055\u001b[0m \u001b[39mif\u001b[39;00m names \u001b[39mis\u001b[39;00m \u001b[39mnot\u001b[39;00m \u001b[39mNone\u001b[39;00m:\n",
      "File \u001b[1;32mc:\\Users\\Admin\\AppData\\Local\\Programs\\Python\\Python311\\Lib\\site-packages\\numpy\\lib\\_iotools.py:870\u001b[0m, in \u001b[0;36measy_dtype\u001b[1;34m(ndtype, names, defaultfmt, **validationargs)\u001b[0m\n\u001b[0;32m    868\u001b[0m         names \u001b[39m=\u001b[39m names\u001b[39m.\u001b[39msplit(\u001b[39m\"\u001b[39m\u001b[39m,\u001b[39m\u001b[39m\"\u001b[39m)\n\u001b[0;32m    869\u001b[0m     names \u001b[39m=\u001b[39m validate(names, nbfields\u001b[39m=\u001b[39mnbfields, defaultfmt\u001b[39m=\u001b[39mdefaultfmt)\n\u001b[1;32m--> 870\u001b[0m     ndtype \u001b[39m=\u001b[39m np\u001b[39m.\u001b[39;49mdtype(\u001b[39mdict\u001b[39;49m(formats\u001b[39m=\u001b[39;49mndtype, names\u001b[39m=\u001b[39;49mnames))\n\u001b[0;32m    871\u001b[0m \u001b[39melse\u001b[39;00m:\n\u001b[0;32m    872\u001b[0m     \u001b[39m# Explicit names\u001b[39;00m\n\u001b[0;32m    873\u001b[0m     \u001b[39mif\u001b[39;00m names \u001b[39mis\u001b[39;00m \u001b[39mnot\u001b[39;00m \u001b[39mNone\u001b[39;00m:\n",
      "\u001b[1;31mTypeError\u001b[0m: data type 'number' not understood"
     ]
    }
   ],
   "source": [
    "# Для нормальної вичитування даних з CSV формату ми використаємо\n",
    "nc = np.genfromtxt(\"1.csv\", delimiter=\",\", dtype=((\"number\",np.int8), (\"date\",np.int8), (\"data\",np.int8) ), skip_header=True)\n",
    "nc"
   ]
  }
 ],
 "metadata": {
  "kernelspec": {
   "display_name": "Python 3",
   "language": "python",
   "name": "python3"
  },
  "language_info": {
   "codemirror_mode": {
    "name": "ipython",
    "version": 3
   },
   "file_extension": ".py",
   "mimetype": "text/x-python",
   "name": "python",
   "nbconvert_exporter": "python",
   "pygments_lexer": "ipython3",
   "version": "3.11.5"
  }
 },
 "nbformat": 4,
 "nbformat_minor": 2
}
