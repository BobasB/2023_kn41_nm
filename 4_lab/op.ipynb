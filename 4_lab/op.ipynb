{
 "cells": [
  {
   "cell_type": "markdown",
   "metadata": {},
   "source": [
    "# Досліджуємо операції над масивами"
   ]
  },
  {
   "cell_type": "code",
   "execution_count": 1,
   "metadata": {},
   "outputs": [],
   "source": [
    "import numpy as np"
   ]
  },
  {
   "cell_type": "code",
   "execution_count": 10,
   "metadata": {},
   "outputs": [
    {
     "data": {
      "text/plain": [
       "array([  9,   2, 343])"
      ]
     },
     "execution_count": 10,
     "metadata": {},
     "output_type": "execute_result"
    }
   ],
   "source": [
    "n = np.array([3, 2, 7])\n",
    "s = np.array([2, 1, 3])\n",
    "n ** s"
   ]
  },
  {
   "cell_type": "code",
   "execution_count": 11,
   "metadata": {},
   "outputs": [
    {
     "data": {
      "text/plain": [
       "array([[0.02812422, 0.01315073, 0.75841791, 0.00773675, 0.09082522],\n",
       "       [0.03355875, 0.61644252, 0.7799881 , 0.76701505, 0.39333279],\n",
       "       [0.00753428, 0.99659576, 0.99610947, 0.38032191, 0.32224938],\n",
       "       [0.09817561, 0.64223138, 0.94385999, 0.28637962, 0.34224867]])"
      ]
     },
     "execution_count": 11,
     "metadata": {},
     "output_type": "execute_result"
    }
   ],
   "source": [
    "r = np.random.random([4,5])\n",
    "r"
   ]
  },
  {
   "cell_type": "code",
   "execution_count": 17,
   "metadata": {},
   "outputs": [
    {
     "data": {
      "text/plain": [
       "array([[1.02812422, 2.01315073, 3.75841791, 4.00773675, 5.09082522],\n",
       "       [1.03355875, 2.61644252, 3.7799881 , 4.76701505, 5.39333279],\n",
       "       [1.00753428, 2.99659576, 3.99610947, 4.38032191, 5.32224938],\n",
       "       [1.09817561, 2.64223138, 3.94385999, 4.28637962, 5.34224867]])"
      ]
     },
     "execution_count": 17,
     "metadata": {},
     "output_type": "execute_result"
    }
   ],
   "source": [
    "# проблем не виникає якщо ми додаємо скаляр або одне число, \n",
    "# а якщо пробувати додати рядок до матриці ми повинні вважти щоб була збережена розмірність рядків\n",
    "# тут буде виконуватись додавання по кожному з рядків окремо\n",
    "a1 = r + np.array([1, 2, 3, 4, 5])\n",
    "a1"
   ]
  },
  {
   "cell_type": "code",
   "execution_count": 18,
   "metadata": {},
   "outputs": [
    {
     "data": {
      "text/plain": [
       "array([[4.02812422, 4.01315073, 4.75841791, 4.00773675, 4.09082522],\n",
       "       [3.03355875, 3.61644252, 3.7799881 , 3.76701505, 3.39333279],\n",
       "       [2.00753428, 2.99659576, 2.99610947, 2.38032191, 2.32224938],\n",
       "       [1.09817561, 1.64223138, 1.94385999, 1.28637962, 1.34224867]])"
      ]
     },
     "execution_count": 18,
     "metadata": {},
     "output_type": "execute_result"
    }
   ],
   "source": [
    "# для додавання по стовпцях ми зробили перетворення просто рядка на стовпець однак потрібно вважати \n",
    "# на розмірність (кількість елементів стовпця)\n",
    "a2 = r + np.array([4,3,2,1]).reshape(4,1)\n",
    "a2"
   ]
  },
  {
   "cell_type": "code",
   "execution_count": 25,
   "metadata": {},
   "outputs": [
    {
     "data": {
      "text/plain": [
       "array([[ 0.2624148 ,  2.03302822,  2.96857179, 16.06195388,  6.33527468],\n",
       "       [ 0.35214208,  4.95281409,  3.7799881 , 28.75690968,  8.5721149 ],\n",
       "       [ 0.50565778,  8.97958612,  5.32987565, 35.30875377, 12.19780215],\n",
       "       [ 1.09817561, 11.23254564,  8.00162136, 61.22132761, 21.26254357]])"
      ]
     },
     "execution_count": 25,
     "metadata": {},
     "output_type": "execute_result"
    }
   ],
   "source": [
    "# можна робити і комплексні операції головне щоб завжди зберігались відповідні елменти до яких виконується операція\n",
    "a3 = a1 ** np.array([2,3,2,3,2]) / a2\n",
    "a3"
   ]
  },
  {
   "cell_type": "code",
   "execution_count": 26,
   "metadata": {},
   "outputs": [
    {
     "data": {
      "text/plain": [
       "array([ 2.03302822,  4.95281409,  8.97958612, 11.23254564])"
      ]
     },
     "execution_count": 26,
     "metadata": {},
     "output_type": "execute_result"
    }
   ],
   "source": [
    "# і на останок можемо виокремити певний стовпець після пропоблених операцій\n",
    "a3[:, 1]"
   ]
  }
 ],
 "metadata": {
  "kernelspec": {
   "display_name": "Python 3",
   "language": "python",
   "name": "python3"
  },
  "language_info": {
   "codemirror_mode": {
    "name": "ipython",
    "version": 3
   },
   "file_extension": ".py",
   "mimetype": "text/x-python",
   "name": "python",
   "nbconvert_exporter": "python",
   "pygments_lexer": "ipython3",
   "version": "3.11.5"
  }
 },
 "nbformat": 4,
 "nbformat_minor": 2
}
